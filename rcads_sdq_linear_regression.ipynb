{
 "cells": [
  {
   "cell_type": "code",
   "execution_count": 158,
   "metadata": {},
   "outputs": [],
   "source": [
    "import pandas as pd\n",
    "import numpy as np\n",
    "import matplotlib.pyplot as plt\n",
    "import math"
   ]
  },
  {
   "cell_type": "markdown",
   "metadata": {},
   "source": [
    "Once the appropriate libraries have been imported, we are just going to do a simple scatterplot to give us a rough visualisation on what the data looks like. Can we see a relationship between mood (RCADS) and behaviour (SDQ)?"
   ]
  },
  {
   "cell_type": "code",
   "execution_count": 137,
   "metadata": {},
   "outputs": [
    {
     "data": {
      "text/html": [
       "<div>\n",
       "<style scoped>\n",
       "    .dataframe tbody tr th:only-of-type {\n",
       "        vertical-align: middle;\n",
       "    }\n",
       "\n",
       "    .dataframe tbody tr th {\n",
       "        vertical-align: top;\n",
       "    }\n",
       "\n",
       "    .dataframe thead th {\n",
       "        text-align: right;\n",
       "    }\n",
       "</style>\n",
       "<table border=\"1\" class=\"dataframe\">\n",
       "  <thead>\n",
       "    <tr style=\"text-align: right;\">\n",
       "      <th></th>\n",
       "      <th>rcads_score_anx_dep_t1</th>\n",
       "      <th>sdq_total_t1</th>\n",
       "    </tr>\n",
       "  </thead>\n",
       "  <tbody>\n",
       "    <tr>\n",
       "      <th>0</th>\n",
       "      <td>24.0</td>\n",
       "      <td>NaN</td>\n",
       "    </tr>\n",
       "    <tr>\n",
       "      <th>1</th>\n",
       "      <td>84.0</td>\n",
       "      <td>NaN</td>\n",
       "    </tr>\n",
       "    <tr>\n",
       "      <th>2</th>\n",
       "      <td>NaN</td>\n",
       "      <td>27.0</td>\n",
       "    </tr>\n",
       "    <tr>\n",
       "      <th>3</th>\n",
       "      <td>NaN</td>\n",
       "      <td>18.0</td>\n",
       "    </tr>\n",
       "    <tr>\n",
       "      <th>4</th>\n",
       "      <td>NaN</td>\n",
       "      <td>18.0</td>\n",
       "    </tr>\n",
       "  </tbody>\n",
       "</table>\n",
       "</div>"
      ],
      "text/plain": [
       "   rcads_score_anx_dep_t1  sdq_total_t1\n",
       "0                    24.0           NaN\n",
       "1                    84.0           NaN\n",
       "2                     NaN          27.0\n",
       "3                     NaN          18.0\n",
       "4                     NaN          18.0"
      ]
     },
     "execution_count": 137,
     "metadata": {},
     "output_type": "execute_result"
    }
   ],
   "source": [
    "dataset = pd.read_excel('dataset.xlsx')\n",
    "rcads_sdq_totals_t1 = dataset.filter(items=['rcads_score_anx_dep_t1','sdq_total_t1'])\n",
    "rcads_sdq_totals_t1.head()"
   ]
  },
  {
   "cell_type": "code",
   "execution_count": 138,
   "metadata": {},
   "outputs": [
    {
     "data": {
      "text/html": [
       "<div>\n",
       "<style scoped>\n",
       "    .dataframe tbody tr th:only-of-type {\n",
       "        vertical-align: middle;\n",
       "    }\n",
       "\n",
       "    .dataframe tbody tr th {\n",
       "        vertical-align: top;\n",
       "    }\n",
       "\n",
       "    .dataframe thead th {\n",
       "        text-align: right;\n",
       "    }\n",
       "</style>\n",
       "<table border=\"1\" class=\"dataframe\">\n",
       "  <thead>\n",
       "    <tr style=\"text-align: right;\">\n",
       "      <th></th>\n",
       "      <th>rcads_score_anx_dep_t1</th>\n",
       "      <th>sdq_total_t1</th>\n",
       "    </tr>\n",
       "  </thead>\n",
       "  <tbody>\n",
       "    <tr>\n",
       "      <th>count</th>\n",
       "      <td>146.000000</td>\n",
       "      <td>146.000000</td>\n",
       "    </tr>\n",
       "    <tr>\n",
       "      <th>mean</th>\n",
       "      <td>57.664384</td>\n",
       "      <td>15.041096</td>\n",
       "    </tr>\n",
       "    <tr>\n",
       "      <th>std</th>\n",
       "      <td>25.083386</td>\n",
       "      <td>6.178803</td>\n",
       "    </tr>\n",
       "    <tr>\n",
       "      <th>min</th>\n",
       "      <td>6.000000</td>\n",
       "      <td>0.000000</td>\n",
       "    </tr>\n",
       "    <tr>\n",
       "      <th>25%</th>\n",
       "      <td>37.000000</td>\n",
       "      <td>11.000000</td>\n",
       "    </tr>\n",
       "    <tr>\n",
       "      <th>50%</th>\n",
       "      <td>59.500000</td>\n",
       "      <td>15.000000</td>\n",
       "    </tr>\n",
       "    <tr>\n",
       "      <th>75%</th>\n",
       "      <td>77.000000</td>\n",
       "      <td>19.750000</td>\n",
       "    </tr>\n",
       "    <tr>\n",
       "      <th>max</th>\n",
       "      <td>124.000000</td>\n",
       "      <td>32.000000</td>\n",
       "    </tr>\n",
       "  </tbody>\n",
       "</table>\n",
       "</div>"
      ],
      "text/plain": [
       "       rcads_score_anx_dep_t1  sdq_total_t1\n",
       "count              146.000000    146.000000\n",
       "mean                57.664384     15.041096\n",
       "std                 25.083386      6.178803\n",
       "min                  6.000000      0.000000\n",
       "25%                 37.000000     11.000000\n",
       "50%                 59.500000     15.000000\n",
       "75%                 77.000000     19.750000\n",
       "max                124.000000     32.000000"
      ]
     },
     "execution_count": 138,
     "metadata": {},
     "output_type": "execute_result"
    }
   ],
   "source": [
    "filtered_scores = rcads_sdq_totals_t1.dropna()\n",
    "filtered_scores.describe()"
   ]
  },
  {
   "cell_type": "markdown",
   "metadata": {},
   "source": [
    "Once the data is tidy and we have filtered everything as appropriate, let's create the scatterplot"
   ]
  },
  {
   "cell_type": "code",
   "execution_count": 139,
   "metadata": {},
   "outputs": [
    {
     "data": {
      "image/png": "[encoded data removed]",
      "text/plain": [
       "<matplotlib.figure.Figure at 0x10ae056a0>"
      ]
     },
     "metadata": {},
     "output_type": "display_data"
    }
   ],
   "source": [
    "x = filtered_scores['rcads_score_anx_dep_t1']\n",
    "y = filtered_scores['sdq_total_t1']\n",
    "plt.scatter(x,y, label='score')\n",
    "plt.title('RCADS and SDQ Scores (Total)')\n",
    "plt.xlabel('RCADS Total Score')\n",
    "plt.ylabel('SDQ Total Score')\n",
    "plt.show()"
   ]
  },
  {
   "cell_type": "markdown",
   "metadata": {},
   "source": [
    "Now we have a rough idea of what the dataset looks like, we can go ahead and create our linear regression model. When we create our model, we will find the strength of the relationship as well."
   ]
  },
  {
   "cell_type": "markdown",
   "metadata": {},
   "source": [
    "These are the equations I will be using to generate the linear regression function.\n",
    "\n",
    "<b>Linear Regression Function</b>\n",
    "y = mx + b where y is the SDQ total score, m is the slope/gradient of the line and b is the y intercept.\n",
    "\n",
    "In order to find m, I will do the following:\n",
    "m = r(sy/sx) where r is pearsons correlation coefficient, sy is the standard deviation of y (SDQ Total Score) and sx is the standard deviation of x (RCADS Total Score)\n",
    "\n",
    "In order to find b, I will do the following:\n",
    "b = mean(y) - m(mean(x)) where mean(y) is the mean value of y (SDQ Total Score) and m(mean x) is the slope/gradient of the line multiplied by the mean value of x (RCADS Total Score)"
   ]
  },
  {
   "cell_type": "markdown",
   "metadata": {},
   "source": [
    "<b>Step 1: Find pearson correlation coefficient, r</b>"
   ]
  },
  {
   "cell_type": "code",
   "execution_count": 142,
   "metadata": {},
   "outputs": [],
   "source": [
    "x_meanx = [] \n",
    "y_meany = []\n",
    "for index, row in filtered_scores.iterrows():\n",
    "    x_meanx.append(row['rcads_score_anx_dep_t1'] - filtered_scores['rcads_score_anx_dep_t1'].mean())\n",
    "    y_meany.append(row['sdq_total_t1'] - filtered_scores['sdq_total_t1'].mean())\n",
    "x_meanx_multiply_y_meany = np.multiply(x_meanx, y_meany)\n",
    "x_meanx_squared = np.power(x_meanx, 2)\n",
    "y_meany_squared = np.power(y_meany, 2)\n",
    "filtered_scores_table = filtered_scores.assign(x_meanx = x_meanx, y_meany = y_meany, x_meanx_multiply_y_meany = x_meanx_multiply_y_meany, x_meanx_sqaured = x_meanx_squared, y_meany_square = y_meany_squared)"
   ]
  },
  {
   "cell_type": "code",
   "execution_count": 143,
   "metadata": {},
   "outputs": [
    {
     "data": {
      "text/html": [
       "<div>\n",
       "<style scoped>\n",
       "    .dataframe tbody tr th:only-of-type {\n",
       "        vertical-align: middle;\n",
       "    }\n",
       "\n",
       "    .dataframe tbody tr th {\n",
       "        vertical-align: top;\n",
       "    }\n",
       "\n",
       "    .dataframe thead th {\n",
       "        text-align: right;\n",
       "    }\n",
       "</style>\n",
       "<table border=\"1\" class=\"dataframe\">\n",
       "  <thead>\n",
       "    <tr style=\"text-align: right;\">\n",
       "      <th></th>\n",
       "      <th>rcads_score_anx_dep_t1</th>\n",
       "      <th>sdq_total_t1</th>\n",
       "      <th>x_meanx</th>\n",
       "      <th>y_meany</th>\n",
       "      <th>x_meanx_multiply_y_meany</th>\n",
       "      <th>x_meanx_sqaured</th>\n",
       "      <th>y_meany_square</th>\n",
       "    </tr>\n",
       "  </thead>\n",
       "  <tbody>\n",
       "    <tr>\n",
       "      <th>59</th>\n",
       "      <td>74.0</td>\n",
       "      <td>12.0</td>\n",
       "      <td>16.335616</td>\n",
       "      <td>-3.041096</td>\n",
       "      <td>-49.678176</td>\n",
       "      <td>266.852364</td>\n",
       "      <td>9.248264</td>\n",
       "    </tr>\n",
       "    <tr>\n",
       "      <th>490</th>\n",
       "      <td>65.0</td>\n",
       "      <td>20.0</td>\n",
       "      <td>7.335616</td>\n",
       "      <td>4.958904</td>\n",
       "      <td>36.376619</td>\n",
       "      <td>53.811269</td>\n",
       "      <td>24.590730</td>\n",
       "    </tr>\n",
       "    <tr>\n",
       "      <th>534</th>\n",
       "      <td>77.0</td>\n",
       "      <td>15.0</td>\n",
       "      <td>19.335616</td>\n",
       "      <td>-0.041096</td>\n",
       "      <td>-0.794614</td>\n",
       "      <td>373.866063</td>\n",
       "      <td>0.001689</td>\n",
       "    </tr>\n",
       "    <tr>\n",
       "      <th>543</th>\n",
       "      <td>77.0</td>\n",
       "      <td>17.0</td>\n",
       "      <td>19.335616</td>\n",
       "      <td>1.958904</td>\n",
       "      <td>37.876619</td>\n",
       "      <td>373.866063</td>\n",
       "      <td>3.837305</td>\n",
       "    </tr>\n",
       "    <tr>\n",
       "      <th>568</th>\n",
       "      <td>77.0</td>\n",
       "      <td>16.0</td>\n",
       "      <td>19.335616</td>\n",
       "      <td>0.958904</td>\n",
       "      <td>18.541002</td>\n",
       "      <td>373.866063</td>\n",
       "      <td>0.919497</td>\n",
       "    </tr>\n",
       "  </tbody>\n",
       "</table>\n",
       "</div>"
      ],
      "text/plain": [
       "     rcads_score_anx_dep_t1  sdq_total_t1    x_meanx   y_meany  \\\n",
       "59                     74.0          12.0  16.335616 -3.041096   \n",
       "490                    65.0          20.0   7.335616  4.958904   \n",
       "534                    77.0          15.0  19.335616 -0.041096   \n",
       "543                    77.0          17.0  19.335616  1.958904   \n",
       "568                    77.0          16.0  19.335616  0.958904   \n",
       "\n",
       "     x_meanx_multiply_y_meany  x_meanx_sqaured  y_meany_square  \n",
       "59                 -49.678176       266.852364        9.248264  \n",
       "490                 36.376619        53.811269       24.590730  \n",
       "534                 -0.794614       373.866063        0.001689  \n",
       "543                 37.876619       373.866063        3.837305  \n",
       "568                 18.541002       373.866063        0.919497  "
      ]
     },
     "execution_count": 143,
     "metadata": {},
     "output_type": "execute_result"
    }
   ],
   "source": [
    "filtered_scores_table.head()"
   ]
  },
  {
   "cell_type": "markdown",
   "metadata": {},
   "source": [
    "Now we have everything we need to plug our values into the correlation coefficient equation. Here is what the new collumns mean:\n",
    "x_meanx = x - mean(x)<br>\n",
    "y_meany = y - mean(y)<br>\n",
    "x_meanx_multiply_y_meany = (x - mean(x)) * (y - mean(y))<br>\n",
    "x_meanx_squared = (x - mean(x))^2<br>\n",
    "y_meany_squared = (y - mean(y))^2<br>"
   ]
  },
  {
   "cell_type": "markdown",
   "metadata": {},
   "source": [
    "<b>Remeber that x = RCADS and y = SDQ</b>"
   ]
  },
  {
   "cell_type": "code",
   "execution_count": 146,
   "metadata": {},
   "outputs": [
    {
     "name": "stdout",
     "output_type": "stream",
     "text": [
      "0.33\n"
     ]
    }
   ],
   "source": [
    "top = filtered_scores_table['x_meanx_multiply_y_meany'].sum()\n",
    "bottom = filtered_scores_table['x_meanx_sqaured'].sum() * filtered_scores_table['y_meany_square'].sum()\n",
    "bottom_sqrt = math.sqrt(bottom)\n",
    "r = top/bottom_sqrt\n",
    "print(r.round(2))"
   ]
  },
  {
   "cell_type": "markdown",
   "metadata": {},
   "source": [
    "<b>Step 2: Now that we have the r value, we can work out the gradient/slope of the line</b>"
   ]
  },
  {
   "cell_type": "code",
   "execution_count": 152,
   "metadata": {},
   "outputs": [
    {
     "name": "stdout",
     "output_type": "stream",
     "text": [
      "0.08\n"
     ]
    }
   ],
   "source": [
    "m = r * (filtered_scores_table['sdq_total_t1'].std()/filtered_scores_table['rcads_score_anx_dep_t1'].std())\n",
    "print(m.round(2))"
   ]
  },
  {
   "cell_type": "markdown",
   "metadata": {},
   "source": [
    "<b>Step 3: Now that we have the gradient/slope, we can now work out the y intercept</b>"
   ]
  },
  {
   "cell_type": "code",
   "execution_count": 155,
   "metadata": {},
   "outputs": [
    {
     "name": "stdout",
     "output_type": "stream",
     "text": [
      "10.3\n"
     ]
    }
   ],
   "source": [
    "b = filtered_scores_table['sdq_total_t1'].mean() - (m * filtered_scores_table['rcads_score_anx_dep_t1'].mean())\n",
    "print(b.round(2))"
   ]
  },
  {
   "cell_type": "markdown",
   "metadata": {},
   "source": [
    "Our equation for the regression is SDQ_Score(Y) = 0.08x + 10.3"
   ]
  },
  {
   "cell_type": "markdown",
   "metadata": {},
   "source": [
    "How accurate is this regression though? How certain can we be that if we plug in a value for x (rcads score) that it can predict the value of y (sdq score). This relates to the bigger question: can how we feel accurately predict how we will behave?"
   ]
  }
 ],
 "metadata": {
  "kernelspec": {
   "display_name": "Python 3",
   "language": "python",
   "name": "python3"
  },
  "language_info": {
   "codemirror_mode": {
    "name": "ipython",
    "version": 3
   },
   "file_extension": ".py",
   "mimetype": "text/x-python",
   "name": "python",
   "nbconvert_exporter": "python",
   "pygments_lexer": "ipython3",
   "version": "3.6.4"
  }
 },
 "nbformat": 4,
 "nbformat_minor": 2
}
