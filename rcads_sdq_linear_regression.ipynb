{
 "cells": [
  {
   "cell_type": "code",
   "execution_count": 1,
   "metadata": {},
   "outputs": [],
   "source": [
    "import pandas as pd\n",
    "import numpy as np\n",
    "import matplotlib.pyplot as plt\n",
    "import math"
   ]
  },
  {
   "cell_type": "markdown",
   "metadata": {},
   "source": [
    "Once the appropriate libraries have been imported, we are just going to do a simple scatterplot to give us a rough visualisation on what the data looks like. Can we see a relationship between mood (RCADS) and behaviour (SDQ)?"
   ]
  },
  {
   "cell_type": "code",
   "execution_count": 10,
   "metadata": {},
   "outputs": [
    {
     "data": {
      "text/html": [
       "<div>\n",
       "<style scoped>\n",
       "    .dataframe tbody tr th:only-of-type {\n",
       "        vertical-align: middle;\n",
       "    }\n",
       "\n",
       "    .dataframe tbody tr th {\n",
       "        vertical-align: top;\n",
       "    }\n",
       "\n",
       "    .dataframe thead th {\n",
       "        text-align: right;\n",
       "    }\n",
       "</style>\n",
       "<table border=\"1\" class=\"dataframe\">\n",
       "  <thead>\n",
       "    <tr style=\"text-align: right;\">\n",
       "      <th></th>\n",
       "      <th>rcads_score_anx_dep_t2</th>\n",
       "      <th>sdq_total_t2</th>\n",
       "    </tr>\n",
       "  </thead>\n",
       "  <tbody>\n",
       "    <tr>\n",
       "      <th>0</th>\n",
       "      <td>41.0</td>\n",
       "      <td>NaN</td>\n",
       "    </tr>\n",
       "    <tr>\n",
       "      <th>1</th>\n",
       "      <td>NaN</td>\n",
       "      <td>NaN</td>\n",
       "    </tr>\n",
       "    <tr>\n",
       "      <th>2</th>\n",
       "      <td>NaN</td>\n",
       "      <td>NaN</td>\n",
       "    </tr>\n",
       "    <tr>\n",
       "      <th>3</th>\n",
       "      <td>NaN</td>\n",
       "      <td>NaN</td>\n",
       "    </tr>\n",
       "    <tr>\n",
       "      <th>4</th>\n",
       "      <td>NaN</td>\n",
       "      <td>NaN</td>\n",
       "    </tr>\n",
       "  </tbody>\n",
       "</table>\n",
       "</div>"
      ],
      "text/plain": [
       "   rcads_score_anx_dep_t2  sdq_total_t2\n",
       "0                    41.0           NaN\n",
       "1                     NaN           NaN\n",
       "2                     NaN           NaN\n",
       "3                     NaN           NaN\n",
       "4                     NaN           NaN"
      ]
     },
     "execution_count": 10,
     "metadata": {},
     "output_type": "execute_result"
    }
   ],
   "source": [
    "dataset = pd.read_excel('dataset.xlsx')\n",
    "rcads_sdq_totals_t2 = dataset.filter(items=['rcads_score_anx_dep_t2','sdq_total_t2'])\n",
    "rcads_sdq_totals_t2.head()"
   ]
  },
  {
   "cell_type": "code",
   "execution_count": 11,
   "metadata": {},
   "outputs": [
    {
     "data": {
      "text/html": [
       "<div>\n",
       "<style scoped>\n",
       "    .dataframe tbody tr th:only-of-type {\n",
       "        vertical-align: middle;\n",
       "    }\n",
       "\n",
       "    .dataframe tbody tr th {\n",
       "        vertical-align: top;\n",
       "    }\n",
       "\n",
       "    .dataframe thead th {\n",
       "        text-align: right;\n",
       "    }\n",
       "</style>\n",
       "<table border=\"1\" class=\"dataframe\">\n",
       "  <thead>\n",
       "    <tr style=\"text-align: right;\">\n",
       "      <th></th>\n",
       "      <th>rcads_score_anx_dep_t2</th>\n",
       "      <th>sdq_total_t2</th>\n",
       "    </tr>\n",
       "  </thead>\n",
       "  <tbody>\n",
       "    <tr>\n",
       "      <th>count</th>\n",
       "      <td>57.000000</td>\n",
       "      <td>57.000000</td>\n",
       "    </tr>\n",
       "    <tr>\n",
       "      <th>mean</th>\n",
       "      <td>37.842105</td>\n",
       "      <td>11.245614</td>\n",
       "    </tr>\n",
       "    <tr>\n",
       "      <th>std</th>\n",
       "      <td>25.546729</td>\n",
       "      <td>5.587872</td>\n",
       "    </tr>\n",
       "    <tr>\n",
       "      <th>min</th>\n",
       "      <td>3.000000</td>\n",
       "      <td>0.000000</td>\n",
       "    </tr>\n",
       "    <tr>\n",
       "      <th>25%</th>\n",
       "      <td>20.000000</td>\n",
       "      <td>7.000000</td>\n",
       "    </tr>\n",
       "    <tr>\n",
       "      <th>50%</th>\n",
       "      <td>36.000000</td>\n",
       "      <td>10.000000</td>\n",
       "    </tr>\n",
       "    <tr>\n",
       "      <th>75%</th>\n",
       "      <td>49.000000</td>\n",
       "      <td>15.000000</td>\n",
       "    </tr>\n",
       "    <tr>\n",
       "      <th>max</th>\n",
       "      <td>122.000000</td>\n",
       "      <td>25.000000</td>\n",
       "    </tr>\n",
       "  </tbody>\n",
       "</table>\n",
       "</div>"
      ],
      "text/plain": [
       "       rcads_score_anx_dep_t2  sdq_total_t2\n",
       "count               57.000000     57.000000\n",
       "mean                37.842105     11.245614\n",
       "std                 25.546729      5.587872\n",
       "min                  3.000000      0.000000\n",
       "25%                 20.000000      7.000000\n",
       "50%                 36.000000     10.000000\n",
       "75%                 49.000000     15.000000\n",
       "max                122.000000     25.000000"
      ]
     },
     "execution_count": 11,
     "metadata": {},
     "output_type": "execute_result"
    }
   ],
   "source": [
    "filtered_scores = rcads_sdq_totals_t2.dropna()\n",
    "filtered_scores.describe()"
   ]
  },
  {
   "cell_type": "markdown",
   "metadata": {},
   "source": [
    "Once the data is tidy and we have filtered everything as appropriate, let's create the scatterplot"
   ]
  },
  {
   "cell_type": "code",
   "execution_count": 12,
   "metadata": {},
   "outputs": [
    {
     "data": {
      "image/png": "[encoded data removed]",
      "text/plain": [
       "<matplotlib.figure.Figure at 0x10f1664a8>"
      ]
     },
     "metadata": {},
     "output_type": "display_data"
    }
   ],
   "source": [
    "x = filtered_scores['rcads_score_anx_dep_t2']\n",
    "y = filtered_scores['sdq_total_t2']\n",
    "plt.scatter(x,y, label='score')\n",
    "plt.title('RCADS and SDQ Scores (Total)')\n",
    "plt.xlabel('RCADS Total Score')\n",
    "plt.ylabel('SDQ Total Score')\n",
    "plt.show()"
   ]
  },
  {
   "cell_type": "markdown",
   "metadata": {},
   "source": [
    "Now we have a rough idea of what the dataset looks like, we can go ahead and create our linear regression model. When we create our model, we will find the strength of the relationship as well."
   ]
  },
  {
   "cell_type": "markdown",
   "metadata": {},
   "source": [
    "These are the equations I will be using to generate the linear regression function.\n",
    "\n",
    "<b>Linear Regression Function</b>\n",
    "y = mx + b where y is the SDQ total score, m is the slope/gradient of the line and b is the y intercept.\n",
    "\n",
    "In order to find m, I will do the following:\n",
    "m = r(sy/sx) where r is pearsons correlation coefficient, sy is the standard deviation of y (SDQ Total Score) and sx is the standard deviation of x (RCADS Total Score)\n",
    "\n",
    "In order to find b, I will do the following:\n",
    "b = mean(y) - m(mean(x)) where mean(y) is the mean value of y (SDQ Total Score) and m(mean x) is the slope/gradient of the line multiplied by the mean value of x (RCADS Total Score)"
   ]
  },
  {
   "cell_type": "markdown",
   "metadata": {},
   "source": [
    "<b>Step 1: Find pearson correlation coefficient, r</b>"
   ]
  },
  {
   "cell_type": "code",
   "execution_count": 13,
   "metadata": {},
   "outputs": [],
   "source": [
    "x_meanx = [] \n",
    "y_meany = []\n",
    "for index, row in filtered_scores.iterrows():\n",
    "    x_meanx.append(row['rcads_score_anx_dep_t2'] - filtered_scores['rcads_score_anx_dep_t2'].mean())\n",
    "    y_meany.append(row['sdq_total_t2'] - filtered_scores['sdq_total_t2'].mean())\n",
    "x_meanx_multiply_y_meany = np.multiply(x_meanx, y_meany)\n",
    "x_meanx_squared = np.power(x_meanx, 2)\n",
    "y_meany_squared = np.power(y_meany, 2)\n",
    "filtered_scores_table = filtered_scores.assign(x_meanx = x_meanx, y_meany = y_meany, x_meanx_multiply_y_meany = x_meanx_multiply_y_meany, x_meanx_sqaured = x_meanx_squared, y_meany_square = y_meany_squared)"
   ]
  },
  {
   "cell_type": "code",
   "execution_count": 14,
   "metadata": {},
   "outputs": [
    {
     "data": {
      "text/html": [
       "<div>\n",
       "<style scoped>\n",
       "    .dataframe tbody tr th:only-of-type {\n",
       "        vertical-align: middle;\n",
       "    }\n",
       "\n",
       "    .dataframe tbody tr th {\n",
       "        vertical-align: top;\n",
       "    }\n",
       "\n",
       "    .dataframe thead th {\n",
       "        text-align: right;\n",
       "    }\n",
       "</style>\n",
       "<table border=\"1\" class=\"dataframe\">\n",
       "  <thead>\n",
       "    <tr style=\"text-align: right;\">\n",
       "      <th></th>\n",
       "      <th>rcads_score_anx_dep_t2</th>\n",
       "      <th>sdq_total_t2</th>\n",
       "      <th>x_meanx</th>\n",
       "      <th>y_meany</th>\n",
       "      <th>x_meanx_multiply_y_meany</th>\n",
       "      <th>x_meanx_sqaured</th>\n",
       "      <th>y_meany_square</th>\n",
       "    </tr>\n",
       "  </thead>\n",
       "  <tbody>\n",
       "    <tr>\n",
       "      <th>605</th>\n",
       "      <td>25.0</td>\n",
       "      <td>12.0</td>\n",
       "      <td>-12.842105</td>\n",
       "      <td>0.754386</td>\n",
       "      <td>-9.687904</td>\n",
       "      <td>164.919668</td>\n",
       "      <td>0.569098</td>\n",
       "    </tr>\n",
       "    <tr>\n",
       "      <th>1206</th>\n",
       "      <td>49.0</td>\n",
       "      <td>19.0</td>\n",
       "      <td>11.157895</td>\n",
       "      <td>7.754386</td>\n",
       "      <td>86.522622</td>\n",
       "      <td>124.498615</td>\n",
       "      <td>60.130502</td>\n",
       "    </tr>\n",
       "    <tr>\n",
       "      <th>1324</th>\n",
       "      <td>8.0</td>\n",
       "      <td>5.0</td>\n",
       "      <td>-29.842105</td>\n",
       "      <td>-6.245614</td>\n",
       "      <td>186.382271</td>\n",
       "      <td>890.551247</td>\n",
       "      <td>39.007695</td>\n",
       "    </tr>\n",
       "    <tr>\n",
       "      <th>1335</th>\n",
       "      <td>99.0</td>\n",
       "      <td>10.0</td>\n",
       "      <td>61.157895</td>\n",
       "      <td>-1.245614</td>\n",
       "      <td>-76.179132</td>\n",
       "      <td>3740.288089</td>\n",
       "      <td>1.551554</td>\n",
       "    </tr>\n",
       "    <tr>\n",
       "      <th>1340</th>\n",
       "      <td>17.0</td>\n",
       "      <td>7.0</td>\n",
       "      <td>-20.842105</td>\n",
       "      <td>-4.245614</td>\n",
       "      <td>88.487535</td>\n",
       "      <td>434.393352</td>\n",
       "      <td>18.025239</td>\n",
       "    </tr>\n",
       "  </tbody>\n",
       "</table>\n",
       "</div>"
      ],
      "text/plain": [
       "      rcads_score_anx_dep_t2  sdq_total_t2    x_meanx   y_meany  \\\n",
       "605                     25.0          12.0 -12.842105  0.754386   \n",
       "1206                    49.0          19.0  11.157895  7.754386   \n",
       "1324                     8.0           5.0 -29.842105 -6.245614   \n",
       "1335                    99.0          10.0  61.157895 -1.245614   \n",
       "1340                    17.0           7.0 -20.842105 -4.245614   \n",
       "\n",
       "      x_meanx_multiply_y_meany  x_meanx_sqaured  y_meany_square  \n",
       "605                  -9.687904       164.919668        0.569098  \n",
       "1206                 86.522622       124.498615       60.130502  \n",
       "1324                186.382271       890.551247       39.007695  \n",
       "1335                -76.179132      3740.288089        1.551554  \n",
       "1340                 88.487535       434.393352       18.025239  "
      ]
     },
     "execution_count": 14,
     "metadata": {},
     "output_type": "execute_result"
    }
   ],
   "source": [
    "filtered_scores_table.head()"
   ]
  },
  {
   "cell_type": "markdown",
   "metadata": {},
   "source": [
    "Now we have everything we need to plug our values into the correlation coefficient equation. Here is what the new collumns mean:\n",
    "x_meanx = x - mean(x)<br>\n",
    "y_meany = y - mean(y)<br>\n",
    "x_meanx_multiply_y_meany = (x - mean(x)) * (y - mean(y))<br>\n",
    "x_meanx_squared = (x - mean(x))^2<br>\n",
    "y_meany_squared = (y - mean(y))^2<br>"
   ]
  },
  {
   "cell_type": "markdown",
   "metadata": {},
   "source": [
    "<b>Remeber that x = RCADS and y = SDQ</b>"
   ]
  },
  {
   "cell_type": "code",
   "execution_count": 15,
   "metadata": {},
   "outputs": [
    {
     "name": "stdout",
     "output_type": "stream",
     "text": [
      "0.4\n"
     ]
    }
   ],
   "source": [
    "top = filtered_scores_table['x_meanx_multiply_y_meany'].sum()\n",
    "bottom = filtered_scores_table['x_meanx_sqaured'].sum() * filtered_scores_table['y_meany_square'].sum()\n",
    "bottom_sqrt = math.sqrt(bottom)\n",
    "r = top/bottom_sqrt\n",
    "print(r.round(2))"
   ]
  },
  {
   "cell_type": "markdown",
   "metadata": {},
   "source": [
    "<b>Step 2: Now that we have the r value, we can work out the gradient/slope of the line</b>"
   ]
  },
  {
   "cell_type": "code",
   "execution_count": 16,
   "metadata": {},
   "outputs": [
    {
     "name": "stdout",
     "output_type": "stream",
     "text": [
      "0.09\n"
     ]
    }
   ],
   "source": [
    "m = r * (filtered_scores_table['sdq_total_t2'].std()/filtered_scores_table['rcads_score_anx_dep_t2'].std())\n",
    "print(m.round(2))"
   ]
  },
  {
   "cell_type": "markdown",
   "metadata": {},
   "source": [
    "<b>Step 3: Now that we have the gradient/slope, we can now work out the y intercept</b>"
   ]
  },
  {
   "cell_type": "code",
   "execution_count": 17,
   "metadata": {},
   "outputs": [
    {
     "name": "stdout",
     "output_type": "stream",
     "text": [
      "7.95\n"
     ]
    }
   ],
   "source": [
    "b = filtered_scores_table['sdq_total_t2'].mean() - (m * filtered_scores_table['rcads_score_anx_dep_t2'].mean())\n",
    "print(b.round(2))"
   ]
  },
  {
   "cell_type": "markdown",
   "metadata": {},
   "source": [
    "Our equation for the regression is SDQ_Score(Y) = 0.08x + 10.3"
   ]
  },
  {
   "cell_type": "markdown",
   "metadata": {},
   "source": [
    "Our equation for the regression for timpeoint2 data is SDQ_Score(Y) = 0.09x + 7.95. I did an initial analysis for the timepoint1 data but the r value for timepoint2 is higher so I will just stick to timepoint2 data."
   ]
  },
  {
   "cell_type": "markdown",
   "metadata": {},
   "source": [
    "How accurate is this regression though? How certain can we be that if we plug in a value for x (rcads score) that it can predict the value of y (sdq score). This relates to the bigger question: can how we feel accurately predict how we will behave?"
   ]
  },
  {
   "cell_type": "code",
   "execution_count": 19,
   "metadata": {},
   "outputs": [
    {
     "name": "stdout",
     "output_type": "stream",
     "text": [
      "0.16\n",
      "16.0\n"
     ]
    }
   ],
   "source": [
    "r_squared = r ** 2\n",
    "print(r_squared.round(2))\n",
    "print(r_squared.round(2)*100)"
   ]
  },
  {
   "cell_type": "markdown",
   "metadata": {},
   "source": [
    "<b>Conclusion</b><br>\n",
    "The relationship between RCADS and SDQ total scores is weak (r = 0.4)<br>\n",
    "Only 16% of the variability in the SDQ total scores can be explained by the linear relationship with the RCADS total score<br>\n",
    "Mood may not be a good predictor of behaviour"
   ]
  },
  {
   "cell_type": "code",
   "execution_count": null,
   "metadata": {},
   "outputs": [],
   "source": []
  }
 ],
 "metadata": {
  "kernelspec": {
   "display_name": "Python 3",
   "language": "python",
   "name": "python3"
  },
  "language_info": {
   "codemirror_mode": {
    "name": "ipython",
    "version": 3
   },
   "file_extension": ".py",
   "mimetype": "text/x-python",
   "name": "python",
   "nbconvert_exporter": "python",
   "pygments_lexer": "ipython3",
   "version": "3.6.4"
  }
 },
 "nbformat": 4,
 "nbformat_minor": 2
}
